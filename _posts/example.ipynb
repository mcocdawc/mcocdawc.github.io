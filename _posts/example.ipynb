{
 "cells": [
  {
   "cell_type": "code",
   "execution_count": 5,
   "id": "9e169dc1",
   "metadata": {},
   "outputs": [],
   "source": [
    "# import time\n",
    "from time import sleep\n",
    "\n",
    "from concurrent.futures import ThreadPoolExecutor\n",
    "from multiprocessing.pool import ThreadPool\n",
    "\n",
    "import numba\n",
    "import numpy as np\n",
    "from numba import njit, prange\n",
    "from numpy import sqrt\n",
    "from numpy.linalg import norm"
   ]
  },
  {
   "cell_type": "code",
   "execution_count": null,
   "id": "c04c7850",
   "metadata": {},
   "outputs": [],
   "source": [
    "def double(n):\n",
    "    sleep(1)\n",
    "    return 2 * n"
   ]
  },
  {
   "cell_type": "code",
   "execution_count": 7,
   "id": "49690ba9",
   "metadata": {},
   "outputs": [
    {
     "data": {
      "text/plain": [
       "2"
      ]
     },
     "execution_count": 7,
     "metadata": {},
     "output_type": "execute_result"
    }
   ],
   "source": [
    "double(1)"
   ]
  },
  {
   "cell_type": "code",
   "execution_count": 19,
   "id": "f0a58a9a",
   "metadata": {},
   "outputs": [],
   "source": [
    "with ThreadPoolExecutor(max_workers=10) as executor:\n",
    "    submitted = [executor.submit(double, i) for i in range(10)]\n",
    "    new_values = [x.result() for x in submitted]"
   ]
  },
  {
   "cell_type": "code",
   "execution_count": null,
   "id": "276fe77a",
   "metadata": {},
   "outputs": [],
   "source": []
  }
 ],
 "metadata": {
  "kernelspec": {
   "display_name": ".venv",
   "language": "python",
   "name": "python3"
  },
  "language_info": {
   "codemirror_mode": {
    "name": "ipython",
    "version": 3
   },
   "file_extension": ".py",
   "mimetype": "text/x-python",
   "name": "python",
   "nbconvert_exporter": "python",
   "pygments_lexer": "ipython3",
   "version": "3.12.3"
  }
 },
 "nbformat": 4,
 "nbformat_minor": 5
}
